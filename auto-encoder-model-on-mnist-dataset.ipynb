{
 "cells": [
  {
   "cell_type": "markdown",
   "id": "a6d9da21",
   "metadata": {
    "id": "4UAr5DBgxJhH",
    "papermill": {
     "duration": 0.022355,
     "end_time": "2022-01-22T09:09:47.263380",
     "exception": false,
     "start_time": "2022-01-22T09:09:47.241025",
     "status": "completed"
    },
    "tags": []
   },
   "source": [
    "9. Use MNIST fashion dataset. Construct an auto encoder model that can compress the given images of MNIST dataset."
   ]
  },
  {
   "cell_type": "markdown",
   "id": "e3105e50",
   "metadata": {
    "id": "4j8TlgdWyqHk",
    "papermill": {
     "duration": 0.014966,
     "end_time": "2022-01-22T09:09:47.293786",
     "exception": false,
     "start_time": "2022-01-22T09:09:47.278820",
     "status": "completed"
    },
    "tags": []
   },
   "source": [
    "Import TensorFlow and other libraries"
   ]
  },
  {
   "cell_type": "code",
   "execution_count": 1,
   "id": "26df3dc2",
   "metadata": {
    "execution": {
     "iopub.execute_input": "2022-01-22T09:09:47.335006Z",
     "iopub.status.busy": "2022-01-22T09:09:47.334201Z",
     "iopub.status.idle": "2022-01-22T09:09:53.013644Z",
     "shell.execute_reply": "2022-01-22T09:09:53.014116Z"
    },
    "id": "POOy_wgeyqxn",
    "papermill": {
     "duration": 5.705838,
     "end_time": "2022-01-22T09:09:53.014430",
     "exception": false,
     "start_time": "2022-01-22T09:09:47.308592",
     "status": "completed"
    },
    "tags": []
   },
   "outputs": [],
   "source": [
    "import matplotlib.pyplot as plt\n",
    "import numpy as np\n",
    "import pandas as pd\n",
    "import tensorflow as tf\n",
    "\n",
    "from sklearn.metrics import accuracy_score, precision_score, recall_score\n",
    "from sklearn.model_selection import train_test_split\n",
    "from tensorflow.keras import layers, losses\n",
    "from tensorflow.keras.datasets import fashion_mnist\n",
    "from tensorflow.keras.models import Model"
   ]
  },
  {
   "cell_type": "markdown",
   "id": "753805be",
   "metadata": {
    "id": "Ac06yL1Qy86F",
    "papermill": {
     "duration": 0.015551,
     "end_time": "2022-01-22T09:09:53.045791",
     "exception": false,
     "start_time": "2022-01-22T09:09:53.030240",
     "status": "completed"
    },
    "tags": []
   },
   "source": [
    "Load the dataset\n",
    "To start, you will train the basic autoencoder using the Fashon MNIST dataset. Each image in this dataset is 28x28 pixels."
   ]
  },
  {
   "cell_type": "code",
   "execution_count": 2,
   "id": "06e863fb",
   "metadata": {
    "execution": {
     "iopub.execute_input": "2022-01-22T09:09:53.082071Z",
     "iopub.status.busy": "2022-01-22T09:09:53.081184Z",
     "iopub.status.idle": "2022-01-22T09:09:54.333037Z",
     "shell.execute_reply": "2022-01-22T09:09:54.333643Z"
    },
    "id": "OWh6tQTWy9jh",
    "outputId": "4258e3c6-3062-4e66-911c-55ba7044b658",
    "papermill": {
     "duration": 1.272762,
     "end_time": "2022-01-22T09:09:54.333838",
     "exception": false,
     "start_time": "2022-01-22T09:09:53.061076",
     "status": "completed"
    },
    "tags": []
   },
   "outputs": [
    {
     "name": "stdout",
     "output_type": "stream",
     "text": [
      "Downloading data from https://storage.googleapis.com/tensorflow/tf-keras-datasets/train-labels-idx1-ubyte.gz\n",
      "32768/29515 [=================================] - 0s 0us/step\n",
      "40960/29515 [=========================================] - 0s 0us/step\n",
      "Downloading data from https://storage.googleapis.com/tensorflow/tf-keras-datasets/train-images-idx3-ubyte.gz\n",
      "26427392/26421880 [==============================] - 0s 0us/step\n",
      "26435584/26421880 [==============================] - 0s 0us/step\n",
      "Downloading data from https://storage.googleapis.com/tensorflow/tf-keras-datasets/t10k-labels-idx1-ubyte.gz\n",
      "16384/5148 [===============================================================================================] - 0s 0us/step\n",
      "Downloading data from https://storage.googleapis.com/tensorflow/tf-keras-datasets/t10k-images-idx3-ubyte.gz\n",
      "4423680/4422102 [==============================] - 0s 0us/step\n",
      "4431872/4422102 [==============================] - 0s 0us/step\n",
      "(60000, 28, 28)\n",
      "(10000, 28, 28)\n"
     ]
    }
   ],
   "source": [
    "(x_train, _), (x_test, _) = fashion_mnist.load_data()\n",
    "\n",
    "x_train = x_train.astype('float32') / 255.\n",
    "x_test = x_test.astype('float32') / 255.\n",
    "\n",
    "print (x_train.shape)\n",
    "print (x_test.shape)"
   ]
  },
  {
   "cell_type": "code",
   "execution_count": 3,
   "id": "8d2cce39",
   "metadata": {
    "execution": {
     "iopub.execute_input": "2022-01-22T09:09:54.381789Z",
     "iopub.status.busy": "2022-01-22T09:09:54.381113Z",
     "iopub.status.idle": "2022-01-22T09:09:56.753082Z",
     "shell.execute_reply": "2022-01-22T09:09:56.753524Z"
    },
    "id": "GlJohijqzBwl",
    "papermill": {
     "duration": 2.399275,
     "end_time": "2022-01-22T09:09:56.753714",
     "exception": false,
     "start_time": "2022-01-22T09:09:54.354439",
     "status": "completed"
    },
    "tags": []
   },
   "outputs": [
    {
     "name": "stderr",
     "output_type": "stream",
     "text": [
      "2022-01-22 09:09:54.452738: I tensorflow/stream_executor/cuda/cuda_gpu_executor.cc:937] successful NUMA node read from SysFS had negative value (-1), but there must be at least one NUMA node, so returning NUMA node zero\n",
      "2022-01-22 09:09:54.555979: I tensorflow/stream_executor/cuda/cuda_gpu_executor.cc:937] successful NUMA node read from SysFS had negative value (-1), but there must be at least one NUMA node, so returning NUMA node zero\n",
      "2022-01-22 09:09:54.556760: I tensorflow/stream_executor/cuda/cuda_gpu_executor.cc:937] successful NUMA node read from SysFS had negative value (-1), but there must be at least one NUMA node, so returning NUMA node zero\n",
      "2022-01-22 09:09:54.558380: I tensorflow/core/platform/cpu_feature_guard.cc:142] This TensorFlow binary is optimized with oneAPI Deep Neural Network Library (oneDNN) to use the following CPU instructions in performance-critical operations:  AVX2 AVX512F FMA\n",
      "To enable them in other operations, rebuild TensorFlow with the appropriate compiler flags.\n",
      "2022-01-22 09:09:54.559475: I tensorflow/stream_executor/cuda/cuda_gpu_executor.cc:937] successful NUMA node read from SysFS had negative value (-1), but there must be at least one NUMA node, so returning NUMA node zero\n",
      "2022-01-22 09:09:54.560246: I tensorflow/stream_executor/cuda/cuda_gpu_executor.cc:937] successful NUMA node read from SysFS had negative value (-1), but there must be at least one NUMA node, so returning NUMA node zero\n",
      "2022-01-22 09:09:54.560965: I tensorflow/stream_executor/cuda/cuda_gpu_executor.cc:937] successful NUMA node read from SysFS had negative value (-1), but there must be at least one NUMA node, so returning NUMA node zero\n",
      "2022-01-22 09:09:56.413883: I tensorflow/stream_executor/cuda/cuda_gpu_executor.cc:937] successful NUMA node read from SysFS had negative value (-1), but there must be at least one NUMA node, so returning NUMA node zero\n",
      "2022-01-22 09:09:56.414789: I tensorflow/stream_executor/cuda/cuda_gpu_executor.cc:937] successful NUMA node read from SysFS had negative value (-1), but there must be at least one NUMA node, so returning NUMA node zero\n",
      "2022-01-22 09:09:56.415450: I tensorflow/stream_executor/cuda/cuda_gpu_executor.cc:937] successful NUMA node read from SysFS had negative value (-1), but there must be at least one NUMA node, so returning NUMA node zero\n",
      "2022-01-22 09:09:56.416029: I tensorflow/core/common_runtime/gpu/gpu_device.cc:1510] Created device /job:localhost/replica:0/task:0/device:GPU:0 with 15403 MB memory:  -> device: 0, name: Tesla P100-PCIE-16GB, pci bus id: 0000:00:04.0, compute capability: 6.0\n"
     ]
    }
   ],
   "source": [
    "latent_dim = 64 \n",
    "\n",
    "class Autoencoder(Model):\n",
    "  def __init__(self, latent_dim):\n",
    "    super(Autoencoder, self).__init__()\n",
    "    self.latent_dim = latent_dim   \n",
    "    self.encoder = tf.keras.Sequential([\n",
    "      layers.Flatten(),\n",
    "      layers.Dense(latent_dim, activation='relu'),\n",
    "    ])\n",
    "    self.decoder = tf.keras.Sequential([\n",
    "      layers.Dense(784, activation='sigmoid'),\n",
    "      layers.Reshape((28, 28))\n",
    "    ])\n",
    "\n",
    "  def call(self, x):\n",
    "    encoded = self.encoder(x)\n",
    "    decoded = self.decoder(encoded)\n",
    "    return decoded\n",
    "  \n",
    "autoencoder = Autoencoder(latent_dim) "
   ]
  },
  {
   "cell_type": "code",
   "execution_count": 4,
   "id": "6865719f",
   "metadata": {
    "execution": {
     "iopub.execute_input": "2022-01-22T09:09:56.807064Z",
     "iopub.status.busy": "2022-01-22T09:09:56.806511Z",
     "iopub.status.idle": "2022-01-22T09:09:56.815480Z",
     "shell.execute_reply": "2022-01-22T09:09:56.815016Z"
    },
    "id": "Hy9kuiUYzH0m",
    "papermill": {
     "duration": 0.041449,
     "end_time": "2022-01-22T09:09:56.815607",
     "exception": false,
     "start_time": "2022-01-22T09:09:56.774158",
     "status": "completed"
    },
    "tags": []
   },
   "outputs": [],
   "source": [
    "autoencoder.compile(optimizer='adam', loss=losses.MeanSquaredError())"
   ]
  },
  {
   "cell_type": "markdown",
   "id": "7bfaab5f",
   "metadata": {
    "id": "qdSiUY27zTZb",
    "papermill": {
     "duration": 0.025009,
     "end_time": "2022-01-22T09:09:56.860871",
     "exception": false,
     "start_time": "2022-01-22T09:09:56.835862",
     "status": "completed"
    },
    "tags": []
   },
   "source": [
    "Train the model using x_train as both the input and the target. The encoder will learn to compress the dataset from 784 dimensions to the latent space, and the decoder will learn to reconstruct the original images. ."
   ]
  },
  {
   "cell_type": "code",
   "execution_count": 5,
   "id": "4840f3a6",
   "metadata": {
    "execution": {
     "iopub.execute_input": "2022-01-22T09:09:56.910739Z",
     "iopub.status.busy": "2022-01-22T09:09:56.909927Z",
     "iopub.status.idle": "2022-01-22T09:10:32.433564Z",
     "shell.execute_reply": "2022-01-22T09:10:32.433101Z"
    },
    "id": "GURARAtbzUFm",
    "outputId": "06ef24ed-0aff-4b37-e497-6ee25ac45a46",
    "papermill": {
     "duration": 35.548791,
     "end_time": "2022-01-22T09:10:32.433696",
     "exception": false,
     "start_time": "2022-01-22T09:09:56.884905",
     "status": "completed"
    },
    "tags": []
   },
   "outputs": [
    {
     "name": "stderr",
     "output_type": "stream",
     "text": [
      "2022-01-22 09:09:57.616316: I tensorflow/compiler/mlir/mlir_graph_optimization_pass.cc:185] None of the MLIR Optimization Passes are enabled (registered 2)\n"
     ]
    },
    {
     "name": "stdout",
     "output_type": "stream",
     "text": [
      "Epoch 1/10\n",
      "1875/1875 [==============================] - 5s 2ms/step - loss: 0.0238 - val_loss: 0.0131\n",
      "Epoch 2/10\n",
      "1875/1875 [==============================] - 3s 2ms/step - loss: 0.0115 - val_loss: 0.0105\n",
      "Epoch 3/10\n",
      "1875/1875 [==============================] - 3s 2ms/step - loss: 0.0099 - val_loss: 0.0098\n",
      "Epoch 4/10\n",
      "1875/1875 [==============================] - 4s 2ms/step - loss: 0.0094 - val_loss: 0.0093\n",
      "Epoch 5/10\n",
      "1875/1875 [==============================] - 4s 2ms/step - loss: 0.0091 - val_loss: 0.0091\n",
      "Epoch 6/10\n",
      "1875/1875 [==============================] - 3s 2ms/step - loss: 0.0090 - val_loss: 0.0090\n",
      "Epoch 7/10\n",
      "1875/1875 [==============================] - 3s 2ms/step - loss: 0.0089 - val_loss: 0.0089\n",
      "Epoch 8/10\n",
      "1875/1875 [==============================] - 3s 2ms/step - loss: 0.0088 - val_loss: 0.0089\n",
      "Epoch 9/10\n",
      "1875/1875 [==============================] - 3s 2ms/step - loss: 0.0088 - val_loss: 0.0089\n",
      "Epoch 10/10\n",
      "1875/1875 [==============================] - 3s 2ms/step - loss: 0.0087 - val_loss: 0.0088\n"
     ]
    },
    {
     "data": {
      "text/plain": [
       "<keras.callbacks.History at 0x7f9f5cc843d0>"
      ]
     },
     "execution_count": 5,
     "metadata": {},
     "output_type": "execute_result"
    }
   ],
   "source": [
    "autoencoder.fit(x_train, x_train,\n",
    "                epochs=10,\n",
    "                shuffle=True,\n",
    "                validation_data=(x_test, x_test))"
   ]
  },
  {
   "cell_type": "markdown",
   "id": "97d3a5eb",
   "metadata": {
    "id": "j2iksrXLz8dC",
    "papermill": {
     "duration": 0.168526,
     "end_time": "2022-01-22T09:10:32.768531",
     "exception": false,
     "start_time": "2022-01-22T09:10:32.600005",
     "status": "completed"
    },
    "tags": []
   },
   "source": [
    "Now that the model is trained, let's test it by encoding and decoding images from the test set."
   ]
  },
  {
   "cell_type": "code",
   "execution_count": 6,
   "id": "a7847af4",
   "metadata": {
    "execution": {
     "iopub.execute_input": "2022-01-22T09:10:33.356562Z",
     "iopub.status.busy": "2022-01-22T09:10:33.355894Z",
     "iopub.status.idle": "2022-01-22T09:10:33.391480Z",
     "shell.execute_reply": "2022-01-22T09:10:33.390072Z"
    },
    "id": "A8IH55hGz9as",
    "papermill": {
     "duration": 0.368755,
     "end_time": "2022-01-22T09:10:33.391685",
     "exception": false,
     "start_time": "2022-01-22T09:10:33.022930",
     "status": "completed"
    },
    "tags": []
   },
   "outputs": [],
   "source": [
    "encoded_imgs = autoencoder.encoder(x_test).numpy()\n",
    "decoded_imgs = autoencoder.decoder(encoded_imgs).numpy()"
   ]
  },
  {
   "cell_type": "code",
   "execution_count": 7,
   "id": "a20f5f6c",
   "metadata": {
    "execution": {
     "iopub.execute_input": "2022-01-22T09:10:33.778788Z",
     "iopub.status.busy": "2022-01-22T09:10:33.777960Z",
     "iopub.status.idle": "2022-01-22T09:10:34.722594Z",
     "shell.execute_reply": "2022-01-22T09:10:34.723005Z"
    },
    "id": "yBERhjLO0Bvb",
    "outputId": "96eb8d52-f301-4f16-fc93-75b7f609691e",
    "papermill": {
     "duration": 1.124467,
     "end_time": "2022-01-22T09:10:34.723152",
     "exception": false,
     "start_time": "2022-01-22T09:10:33.598685",
     "status": "completed"
    },
    "tags": []
   },
   "outputs": [
    {
     "data": {
      "image/png": "[encoded data removed]",
      "text/plain": [
       "<Figure size 1440x288 with 20 Axes>"
      ]
     },
     "metadata": {
      "needs_background": "light"
     },
     "output_type": "display_data"
    }
   ],
   "source": [
    "n = 10\n",
    "plt.figure(figsize=(20, 4))\n",
    "for i in range(n):\n",
    "  # display original\n",
    "  ax = plt.subplot(2, n, i + 1)\n",
    "  plt.imshow(x_test[i])\n",
    "  plt.title(\"original\")\n",
    "  plt.gray()\n",
    "  ax.get_xaxis().set_visible(False)\n",
    "  ax.get_yaxis().set_visible(False)\n",
    "\n",
    "  # display reconstruction\n",
    "  ax = plt.subplot(2, n, i + 1 + n)\n",
    "  plt.imshow(decoded_imgs[i])\n",
    "  plt.title(\"reconstructed\")\n",
    "  plt.gray()\n",
    "  ax.get_xaxis().set_visible(False)\n",
    "  ax.get_yaxis().set_visible(False)\n",
    "plt.show()"
   ]
  },
  {
   "cell_type": "code",
   "execution_count": 8,
   "id": "96769d03",
   "metadata": {
    "execution": {
     "iopub.execute_input": "2022-01-22T09:10:35.070048Z",
     "iopub.status.busy": "2022-01-22T09:10:35.069155Z",
     "iopub.status.idle": "2022-01-22T09:10:35.436786Z",
     "shell.execute_reply": "2022-01-22T09:10:35.435867Z"
    },
    "id": "SPpvEa7J0EfY",
    "papermill": {
     "duration": 0.543461,
     "end_time": "2022-01-22T09:10:35.436934",
     "exception": false,
     "start_time": "2022-01-22T09:10:34.893473",
     "status": "completed"
    },
    "tags": []
   },
   "outputs": [],
   "source": [
    "(x_train, _), (x_test, _) = fashion_mnist.load_data()"
   ]
  },
  {
   "cell_type": "code",
   "execution_count": 9,
   "id": "f8bcc7bf",
   "metadata": {
    "execution": {
     "iopub.execute_input": "2022-01-22T09:10:35.780058Z",
     "iopub.status.busy": "2022-01-22T09:10:35.778802Z",
     "iopub.status.idle": "2022-01-22T09:10:35.854813Z",
     "shell.execute_reply": "2022-01-22T09:10:35.855448Z"
    },
    "id": "uV6DvqWJ0Iy4",
    "outputId": "76c0ea85-371d-4f55-d884-c88a293a4a79",
    "papermill": {
     "duration": 0.250463,
     "end_time": "2022-01-22T09:10:35.855656",
     "exception": false,
     "start_time": "2022-01-22T09:10:35.605193",
     "status": "completed"
    },
    "tags": []
   },
   "outputs": [
    {
     "name": "stdout",
     "output_type": "stream",
     "text": [
      "(60000, 28, 28, 1)\n"
     ]
    }
   ],
   "source": [
    "x_train = x_train.astype('float32') / 255.\n",
    "x_test = x_test.astype('float32') / 255.\n",
    "\n",
    "x_train = x_train[..., tf.newaxis]\n",
    "x_test = x_test[..., tf.newaxis]\n",
    "\n",
    "print(x_train.shape)"
   ]
  },
  {
   "cell_type": "markdown",
   "id": "7c6edeb9",
   "metadata": {
    "id": "kqQ5l8Ld0Rb2",
    "papermill": {
     "duration": 0.168686,
     "end_time": "2022-01-22T09:10:36.194808",
     "exception": false,
     "start_time": "2022-01-22T09:10:36.026122",
     "status": "completed"
    },
    "tags": []
   },
   "source": [
    "Adding random noise to the images"
   ]
  },
  {
   "cell_type": "code",
   "execution_count": 10,
   "id": "a70e66c4",
   "metadata": {
    "execution": {
     "iopub.execute_input": "2022-01-22T09:10:36.545300Z",
     "iopub.status.busy": "2022-01-22T09:10:36.544528Z",
     "iopub.status.idle": "2022-01-22T09:10:36.753710Z",
     "shell.execute_reply": "2022-01-22T09:10:36.753194Z"
    },
    "id": "ALO-kBod0SLi",
    "papermill": {
     "duration": 0.386278,
     "end_time": "2022-01-22T09:10:36.753844",
     "exception": false,
     "start_time": "2022-01-22T09:10:36.367566",
     "status": "completed"
    },
    "tags": []
   },
   "outputs": [],
   "source": [
    "noise_factor = 0.2\n",
    "x_train_noisy = x_train + noise_factor * tf.random.normal(shape=x_train.shape) \n",
    "x_test_noisy = x_test + noise_factor * tf.random.normal(shape=x_test.shape) \n",
    "\n",
    "x_train_noisy = tf.clip_by_value(x_train_noisy, clip_value_min=0., clip_value_max=1.)\n",
    "x_test_noisy = tf.clip_by_value(x_test_noisy, clip_value_min=0., clip_value_max=1.)"
   ]
  },
  {
   "cell_type": "markdown",
   "id": "c31ab438",
   "metadata": {
    "id": "mJfZlSaU0amv",
    "papermill": {
     "duration": 0.169674,
     "end_time": "2022-01-22T09:10:37.124395",
     "exception": false,
     "start_time": "2022-01-22T09:10:36.954721",
     "status": "completed"
    },
    "tags": []
   },
   "source": [
    "Plot the noisy images."
   ]
  },
  {
   "cell_type": "code",
   "execution_count": 11,
   "id": "a231872c",
   "metadata": {
    "execution": {
     "iopub.execute_input": "2022-01-22T09:10:37.475944Z",
     "iopub.status.busy": "2022-01-22T09:10:37.475035Z",
     "iopub.status.idle": "2022-01-22T09:10:38.246354Z",
     "shell.execute_reply": "2022-01-22T09:10:38.246760Z"
    },
    "id": "tORfQuQI0bRy",
    "outputId": "13938704-892a-484c-dae4-df6fb3e8ace7",
    "papermill": {
     "duration": 0.953062,
     "end_time": "2022-01-22T09:10:38.246915",
     "exception": false,
     "start_time": "2022-01-22T09:10:37.293853",
     "status": "completed"
    },
    "tags": []
   },
   "outputs": [
    {
     "data": {
      "image/png": "[encoded data removed]",
      "text/plain": [
       "<Figure size 1440x144 with 10 Axes>"
      ]
     },
     "metadata": {
      "needs_background": "light"
     },
     "output_type": "display_data"
    }
   ],
   "source": [
    "n = 10\n",
    "plt.figure(figsize=(20, 2))\n",
    "for i in range(n):\n",
    "    ax = plt.subplot(1, n, i + 1)\n",
    "    plt.title(\"original + noise\")\n",
    "    plt.imshow(tf.squeeze(x_test_noisy[i]))\n",
    "    plt.gray()\n",
    "plt.show()"
   ]
  },
  {
   "cell_type": "markdown",
   "id": "26e03f16",
   "metadata": {
    "id": "bhEDft6v0sy8",
    "papermill": {
     "duration": 0.172789,
     "end_time": "2022-01-22T09:10:38.590676",
     "exception": false,
     "start_time": "2022-01-22T09:10:38.417887",
     "status": "completed"
    },
    "tags": []
   },
   "source": [
    "## Define a convolutional autoencoder"
   ]
  },
  {
   "cell_type": "code",
   "execution_count": 12,
   "id": "bc138048",
   "metadata": {
    "execution": {
     "iopub.execute_input": "2022-01-22T09:10:38.943944Z",
     "iopub.status.busy": "2022-01-22T09:10:38.943089Z",
     "iopub.status.idle": "2022-01-22T09:10:38.973694Z",
     "shell.execute_reply": "2022-01-22T09:10:38.973138Z"
    },
    "id": "vVauM2j10tjY",
    "papermill": {
     "duration": 0.213278,
     "end_time": "2022-01-22T09:10:38.973836",
     "exception": false,
     "start_time": "2022-01-22T09:10:38.760558",
     "status": "completed"
    },
    "tags": []
   },
   "outputs": [],
   "source": [
    "class Denoise(Model):\n",
    "  def __init__(self):\n",
    "    super(Denoise, self).__init__()\n",
    "    self.encoder = tf.keras.Sequential([\n",
    "      layers.Input(shape=(28, 28, 1)),\n",
    "      layers.Conv2D(16, (3, 3), activation='relu', padding='same', strides=2),\n",
    "      layers.Conv2D(8, (3, 3), activation='relu', padding='same', strides=2)])\n",
    "\n",
    "    self.decoder = tf.keras.Sequential([\n",
    "      layers.Conv2DTranspose(8, kernel_size=3, strides=2, activation='relu', padding='same'),\n",
    "      layers.Conv2DTranspose(16, kernel_size=3, strides=2, activation='relu', padding='same'),\n",
    "      layers.Conv2D(1, kernel_size=(3, 3), activation='sigmoid', padding='same')])\n",
    "\n",
    "  def call(self, x):\n",
    "    encoded = self.encoder(x)\n",
    "    decoded = self.decoder(encoded)\n",
    "    return decoded\n",
    "\n",
    "autoencoder = Denoise()"
   ]
  },
  {
   "cell_type": "code",
   "execution_count": 13,
   "id": "02dcc73f",
   "metadata": {
    "execution": {
     "iopub.execute_input": "2022-01-22T09:10:39.324150Z",
     "iopub.status.busy": "2022-01-22T09:10:39.323321Z",
     "iopub.status.idle": "2022-01-22T09:10:39.327551Z",
     "shell.execute_reply": "2022-01-22T09:10:39.327111Z"
    },
    "id": "CjNw5N-I0yAx",
    "papermill": {
     "duration": 0.182322,
     "end_time": "2022-01-22T09:10:39.327678",
     "exception": false,
     "start_time": "2022-01-22T09:10:39.145356",
     "status": "completed"
    },
    "tags": []
   },
   "outputs": [],
   "source": [
    "autoencoder.compile(optimizer='adam', loss=losses.MeanSquaredError())"
   ]
  },
  {
   "cell_type": "code",
   "execution_count": 14,
   "id": "41a0040c",
   "metadata": {
    "execution": {
     "iopub.execute_input": "2022-01-22T09:10:39.674545Z",
     "iopub.status.busy": "2022-01-22T09:10:39.673652Z",
     "iopub.status.idle": "2022-01-22T09:11:47.820184Z",
     "shell.execute_reply": "2022-01-22T09:11:47.819759Z"
    },
    "id": "xJ8Z0lV_01eb",
    "outputId": "ae3806c9-7d2f-4fce-ee1e-654453d68fd1",
    "papermill": {
     "duration": 68.321194,
     "end_time": "2022-01-22T09:11:47.820332",
     "exception": false,
     "start_time": "2022-01-22T09:10:39.499138",
     "status": "completed"
    },
    "tags": []
   },
   "outputs": [
    {
     "name": "stdout",
     "output_type": "stream",
     "text": [
      "Epoch 1/10\n"
     ]
    },
    {
     "name": "stderr",
     "output_type": "stream",
     "text": [
      "2022-01-22 09:10:41.317367: I tensorflow/stream_executor/cuda/cuda_dnn.cc:369] Loaded cuDNN version 8005\n"
     ]
    },
    {
     "name": "stdout",
     "output_type": "stream",
     "text": [
      "1875/1875 [==============================] - 12s 3ms/step - loss: 0.0169 - val_loss: 0.0094\n",
      "Epoch 2/10\n",
      "1875/1875 [==============================] - 6s 3ms/step - loss: 0.0085 - val_loss: 0.0081\n",
      "Epoch 3/10\n",
      "1875/1875 [==============================] - 6s 3ms/step - loss: 0.0078 - val_loss: 0.0077\n",
      "Epoch 4/10\n",
      "1875/1875 [==============================] - 6s 3ms/step - loss: 0.0075 - val_loss: 0.0074\n",
      "Epoch 5/10\n",
      "1875/1875 [==============================] - 6s 3ms/step - loss: 0.0072 - val_loss: 0.0071\n",
      "Epoch 6/10\n",
      "1875/1875 [==============================] - 7s 3ms/step - loss: 0.0070 - val_loss: 0.0070\n",
      "Epoch 7/10\n",
      "1875/1875 [==============================] - 6s 3ms/step - loss: 0.0069 - val_loss: 0.0069\n",
      "Epoch 8/10\n",
      "1875/1875 [==============================] - 6s 3ms/step - loss: 0.0068 - val_loss: 0.0069\n",
      "Epoch 9/10\n",
      "1875/1875 [==============================] - 6s 3ms/step - loss: 0.0068 - val_loss: 0.0068\n",
      "Epoch 10/10\n",
      "1875/1875 [==============================] - 6s 3ms/step - loss: 0.0067 - val_loss: 0.0068\n"
     ]
    },
    {
     "data": {
      "text/plain": [
       "<keras.callbacks.History at 0x7f9f5c127990>"
      ]
     },
     "execution_count": 14,
     "metadata": {},
     "output_type": "execute_result"
    }
   ],
   "source": [
    "autoencoder.fit(x_train_noisy, x_train,\n",
    "                epochs=10,\n",
    "                shuffle=True,\n",
    "                validation_data=(x_test_noisy, x_test))"
   ]
  },
  {
   "cell_type": "markdown",
   "id": "d3b442e8",
   "metadata": {
    "id": "T78XlFM21dtU",
    "papermill": {
     "duration": 0.446605,
     "end_time": "2022-01-22T09:11:48.716871",
     "exception": false,
     "start_time": "2022-01-22T09:11:48.270266",
     "status": "completed"
    },
    "tags": []
   },
   "source": [
    "Let's take a look at a summary of the encoder. Notice how the images are downsampled from 28x28 to 7x7."
   ]
  },
  {
   "cell_type": "code",
   "execution_count": 15,
   "id": "4652f041",
   "metadata": {
    "execution": {
     "iopub.execute_input": "2022-01-22T09:11:49.630843Z",
     "iopub.status.busy": "2022-01-22T09:11:49.630022Z",
     "iopub.status.idle": "2022-01-22T09:11:49.633216Z",
     "shell.execute_reply": "2022-01-22T09:11:49.633791Z"
    },
    "id": "I9qRM8jV1eaX",
    "outputId": "9774554f-6528-41a0-8b62-ba07a29e33f8",
    "papermill": {
     "duration": 0.457479,
     "end_time": "2022-01-22T09:11:49.633934",
     "exception": false,
     "start_time": "2022-01-22T09:11:49.176455",
     "status": "completed"
    },
    "tags": []
   },
   "outputs": [
    {
     "name": "stdout",
     "output_type": "stream",
     "text": [
      "Model: \"sequential_2\"\n",
      "_________________________________________________________________\n",
      "Layer (type)                 Output Shape              Param #   \n",
      "=================================================================\n",
      "conv2d (Conv2D)              (None, 14, 14, 16)        160       \n",
      "_________________________________________________________________\n",
      "conv2d_1 (Conv2D)            (None, 7, 7, 8)           1160      \n",
      "=================================================================\n",
      "Total params: 1,320\n",
      "Trainable params: 1,320\n",
      "Non-trainable params: 0\n",
      "_________________________________________________________________\n"
     ]
    }
   ],
   "source": [
    "autoencoder.encoder.summary()"
   ]
  },
  {
   "cell_type": "markdown",
   "id": "143d937d",
   "metadata": {
    "id": "U1f97iVa1p3N",
    "papermill": {
     "duration": 0.531002,
     "end_time": "2022-01-22T09:11:50.778940",
     "exception": false,
     "start_time": "2022-01-22T09:11:50.247938",
     "status": "completed"
    },
    "tags": []
   },
   "source": [
    "The decoder upsamples the images back from 7x7 to 28x28."
   ]
  },
  {
   "cell_type": "code",
   "execution_count": 16,
   "id": "93a79286",
   "metadata": {
    "execution": {
     "iopub.execute_input": "2022-01-22T09:11:52.068700Z",
     "iopub.status.busy": "2022-01-22T09:11:52.067786Z",
     "iopub.status.idle": "2022-01-22T09:11:52.071914Z",
     "shell.execute_reply": "2022-01-22T09:11:52.069422Z"
    },
    "id": "YTQN_ezC1qfV",
    "outputId": "7f367ccd-5180-4f1c-f1f6-e6958dceb9f0",
    "papermill": {
     "duration": 0.744287,
     "end_time": "2022-01-22T09:11:52.072094",
     "exception": false,
     "start_time": "2022-01-22T09:11:51.327807",
     "status": "completed"
    },
    "tags": []
   },
   "outputs": [
    {
     "name": "stdout",
     "output_type": "stream",
     "text": [
      "Model: \"sequential_3\"\n",
      "_________________________________________________________________\n",
      "Layer (type)                 Output Shape              Param #   \n",
      "=================================================================\n",
      "conv2d_transpose (Conv2DTran (None, 14, 14, 8)         584       \n",
      "_________________________________________________________________\n",
      "conv2d_transpose_1 (Conv2DTr (None, 28, 28, 16)        1168      \n",
      "_________________________________________________________________\n",
      "conv2d_2 (Conv2D)            (None, 28, 28, 1)         145       \n",
      "=================================================================\n",
      "Total params: 1,897\n",
      "Trainable params: 1,897\n",
      "Non-trainable params: 0\n",
      "_________________________________________________________________\n"
     ]
    }
   ],
   "source": [
    "autoencoder.decoder.summary()"
   ]
  },
  {
   "cell_type": "markdown",
   "id": "f5b9a376",
   "metadata": {
    "id": "EM8uUE3b100B",
    "papermill": {
     "duration": 0.454486,
     "end_time": "2022-01-22T09:11:53.055021",
     "exception": false,
     "start_time": "2022-01-22T09:11:52.600535",
     "status": "completed"
    },
    "tags": []
   },
   "source": [
    "Plotting both the noisy images and the denoised images produced by the autoencoder."
   ]
  },
  {
   "cell_type": "code",
   "execution_count": 17,
   "id": "eaec30d0",
   "metadata": {
    "execution": {
     "iopub.execute_input": "2022-01-22T09:11:54.044184Z",
     "iopub.status.busy": "2022-01-22T09:11:54.043222Z",
     "iopub.status.idle": "2022-01-22T09:11:54.358815Z",
     "shell.execute_reply": "2022-01-22T09:11:54.357863Z"
    },
    "id": "wbFHGg8l11eG",
    "papermill": {
     "duration": 0.838789,
     "end_time": "2022-01-22T09:11:54.358986",
     "exception": false,
     "start_time": "2022-01-22T09:11:53.520197",
     "status": "completed"
    },
    "tags": []
   },
   "outputs": [],
   "source": [
    "encoded_imgs = autoencoder.encoder(x_test).numpy()\n",
    "decoded_imgs = autoencoder.decoder(encoded_imgs).numpy()"
   ]
  },
  {
   "cell_type": "code",
   "execution_count": 18,
   "id": "00d9c8f4",
   "metadata": {
    "execution": {
     "iopub.execute_input": "2022-01-22T09:11:55.281775Z",
     "iopub.status.busy": "2022-01-22T09:11:55.280908Z",
     "iopub.status.idle": "2022-01-22T09:11:56.043460Z",
     "shell.execute_reply": "2022-01-22T09:11:56.043000Z"
    },
    "id": "dIGam2sR131Y",
    "outputId": "a17c6754-0228-4cae-d741-01512953b4ec",
    "papermill": {
     "duration": 1.228983,
     "end_time": "2022-01-22T09:11:56.043590",
     "exception": false,
     "start_time": "2022-01-22T09:11:54.814607",
     "status": "completed"
    },
    "tags": []
   },
   "outputs": [
    {
     "data": {
      "image/png": "[encoded data removed]",
      "text/plain": [
       "<Figure size 1440x288 with 20 Axes>"
      ]
     },
     "metadata": {
      "needs_background": "light"
     },
     "output_type": "display_data"
    }
   ],
   "source": [
    "n = 10\n",
    "plt.figure(figsize=(20, 4))\n",
    "for i in range(n):\n",
    "\n",
    "    # display original + noise\n",
    "    ax = plt.subplot(2, n, i + 1)\n",
    "    plt.title(\"original + noise\")\n",
    "    plt.imshow(tf.squeeze(x_test_noisy[i]))\n",
    "    plt.gray()\n",
    "    ax.get_xaxis().set_visible(False)\n",
    "    ax.get_yaxis().set_visible(False)\n",
    "\n",
    "    # display reconstruction\n",
    "    bx = plt.subplot(2, n, i + n + 1)\n",
    "    plt.title(\"reconstructed\")\n",
    "    plt.imshow(tf.squeeze(decoded_imgs[i]))\n",
    "    plt.gray()\n",
    "    bx.get_xaxis().set_visible(False)\n",
    "    bx.get_yaxis().set_visible(False)\n",
    "plt.show()"
   ]
  }
 ],
 "metadata": {
  "kernelspec": {
   "display_name": "Python 3",
   "language": "python",
   "name": "python3"
  },
  "language_info": {
   "codemirror_mode": {
    "name": "ipython",
    "version": 3
   },
   "file_extension": ".py",
   "mimetype": "text/x-python",
   "name": "python",
   "nbconvert_exporter": "python",
   "pygments_lexer": "ipython3",
   "version": "3.7.12"
  },
  "papermill": {
   "default_parameters": {},
   "duration": 141.749364,
   "end_time": "2022-01-22T09:12:00.184492",
   "environment_variables": {},
   "exception": null,
   "input_path": "__notebook__.ipynb",
   "output_path": "__notebook__.ipynb",
   "parameters": {},
   "start_time": "2022-01-22T09:09:38.435128",
   "version": "2.3.3"
  }
 },
 "nbformat": 4,
 "nbformat_minor": 5
}
